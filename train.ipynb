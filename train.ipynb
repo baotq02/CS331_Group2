{
 "cells": [
  {
   "cell_type": "code",
   "execution_count": 11,
   "metadata": {},
   "outputs": [],
   "source": [
    "BTC_test = []\n",
    "BTC_test.append(['May 10, 2022',\t30273.65,\t32596.31,\t29944.80,\t31022.91,\t59811038817,\t590565398299])\n",
    "BTC_test.append(['May 09, 2022',\t34060.02,\t34222.07,\t30296.95,\t30296.95,\t63355494961,\t576716899023])\n",
    "BTC_test.append(['May 08, 2022',\t35502.94,\t35502.94,\t33878.96,\t34059.26,\t36763041910,\t648302121215])\n",
    "BTC_test.append(['May 07, 2022',\t36042.50,\t36129.93,\t34940.82,\t35501.95,\t24375896406,\t675729532874])\n",
    "BTC_test.append(['May 06, 2022',\t36573.18,\t36624.36,\t35482.13,\t36040.92,\t37795577489,\t685953792236])\n",
    "BTC_test.append(['May 05, 2022',\t39695.75,\t39789.28,\t35856.52,\t36575.14,\t43106256317,\t696088266356])\n",
    "BTC_test.append(['May 04, 2022',\t37748.01,\t39902.95,\t37732.06,\t39698.37,\t36754404490,\t755491473700])\n",
    "BTC_test.append(['May 03, 2022',\t38528.11,\t38629.99,\t37585.62,\t37750.45,\t27326943244,\t718385701943])\n",
    "BTC_test.append(['May 02, 2022',\t38472.19,\t39074.97,\t38156.56,\t38529.33,\t32922642426,\t733170725791])\n",
    "BTC_test.append(['May 01, 2022',\t37713.27,\t38627.86,\t37585.79,\t38469.09,\t27002760110,\t731986764312])\n",
    "BTC_test.append(['Apr 30, 2022',\t38605.86,\t38771.21,\t37697.94,\t37714.88,\t23895713731,\t717596901509])\n",
    "BTC_test.append(['Apr 29, 2022',\t39768.62,\t39887.27,\t38235.54,\t38609.82,\t30882994649,\t734589762490])\n",
    "BTC_test.append(['Apr 28, 2022',\t39241.43,\t40269.47,\t38941.42,\t39773.83,\t33903704907,\t756698317682])\n",
    "BTC_test.append(['Apr 27, 2022',\t38120.30,\t39397.92,\t37997.31,\t39241.12,\t30981015184,\t746531438329])\n",
    "BTC_test.append(['Apr 26, 2022',\t40448.42,\t40713.89,\t37884.99,\t38117.46,\t34569088416,\t725113482674])\n",
    "BTC_test.append(['Apr 25, 2022',\t39472.61,\t40491.75,\t38338.38,\t40458.31,\t35445730570,\t769607056243])\n",
    "BTC_test.append(['Apr 24, 2022',\t39478.37,\t39845.92,\t39233.54,\t39469.29,\t17964398167,\t750755023764])\n",
    "BTC_test.append(['Apr 23, 2022',\t39738.72,\t39935.86,\t39352.20,\t39486.73,\t16138021249,\t751045477435])\n",
    "BTC_test.append(['Apr 22, 2022',\t40525.86,\t40777.76,\t39315.42,\t39740.32,\t28011716745,\t755827581233])\n",
    "BTC_test.append(['Apr 21, 2022',\t41371.52,\t42893.58,\t40063.83,\t40527.36,\t35372786395,\t770762297843])\n",
    "BTC_test.append(['Apr 20, 2022',\t41501.74,\t42126.30,\t40961.10,\t41374.38,\t27819532341,\t786828424699])\n",
    "BTC_test.append(['Apr 19, 2022',\t40828.17,\t41672.96,\t40618.63,\t41502.75,\t25303206547,\t789227424713])\n",
    "BTC_test.append(['Apr 18, 2022',\t39721.20,\t40986.32,\t38696.19,\t40826.21,\t33705182072,\t776330593866])\n",
    "BTC_test.append(['Apr 17, 2022',\t40417.78,\t40570.73,\t39620.89,\t39716.95,\t19087633042,\t755201997823])\n",
    "BTC_test.append(['Apr 16, 2022',\t40552.32,\t40633.68,\t40078.43,\t40424.48,\t16833150693,\t768615440640])\n",
    "BTC_test.append(['Apr 15, 2022',\t39939.40,\t40617.72,\t39866.83,\t40553.46,\t21756855753,\t771033872659])\n",
    "BTC_test.append(['Apr 14, 2022',\t41160.22,\t41451.48,\t39695.74,\t39935.52,\t24342001973,\t759245303311])\n",
    "BTC_test.append(['Apr 13, 2022',\t40123.57,\t41430.05,\t39712.75,\t41166.73,\t27691105228,\t782617115810])\n",
    "BTC_test.append(['Apr 12, 2022',\t39533.71,\t40617.59,\t39388.33,\t40127.18,\t30991500854,\t762819737794])\n",
    "BTC_test.append(['Apr 11, 2022',\t42201.04,\t42424.59,\t39373.06,\t39521.90,\t33949912166,\t751274786459])\n",
    "BTC_test.append(['Apr 10, 2022',\t42781.09,\t43376.38,\t42021.21,\t42207.67,\t17654475582,\t802293412897])"
   ]
  },
  {
   "cell_type": "code",
   "execution_count": 12,
   "metadata": {},
   "outputs": [],
   "source": [
    "col_name = ['Date' , 'Open', 'High', 'Low', 'Close', 'Volume', 'Marketcap']\n",
    "data = {}\n",
    "data['Bitcoin'] = BTC_test\n",
    "# data['Solana'] = solana_test\n",
    "# data['Polkadot'] = DOT_test"
   ]
  },
  {
   "cell_type": "code",
   "execution_count": 14,
   "metadata": {},
   "outputs": [
    {
     "name": "stdout",
     "output_type": "stream",
     "text": [
      "            Date      Open      High       Low     Close       Volume  \\\n",
      "0   May 10, 2022  30273.65  32596.31  29944.80  31022.91  59811038817   \n",
      "1   May 09, 2022  34060.02  34222.07  30296.95  30296.95  63355494961   \n",
      "2   May 08, 2022  35502.94  35502.94  33878.96  34059.26  36763041910   \n",
      "3   May 07, 2022  36042.50  36129.93  34940.82  35501.95  24375896406   \n",
      "4   May 06, 2022  36573.18  36624.36  35482.13  36040.92  37795577489   \n",
      "5   May 05, 2022  39695.75  39789.28  35856.52  36575.14  43106256317   \n",
      "6   May 04, 2022  37748.01  39902.95  37732.06  39698.37  36754404490   \n",
      "7   May 03, 2022  38528.11  38629.99  37585.62  37750.45  27326943244   \n",
      "8   May 02, 2022  38472.19  39074.97  38156.56  38529.33  32922642426   \n",
      "9   May 01, 2022  37713.27  38627.86  37585.79  38469.09  27002760110   \n",
      "10  Apr 30, 2022  38605.86  38771.21  37697.94  37714.88  23895713731   \n",
      "11  Apr 29, 2022  39768.62  39887.27  38235.54  38609.82  30882994649   \n",
      "12  Apr 28, 2022  39241.43  40269.47  38941.42  39773.83  33903704907   \n",
      "13  Apr 27, 2022  38120.30  39397.92  37997.31  39241.12  30981015184   \n",
      "14  Apr 26, 2022  40448.42  40713.89  37884.99  38117.46  34569088416   \n",
      "15  Apr 25, 2022  39472.61  40491.75  38338.38  40458.31  35445730570   \n",
      "16  Apr 24, 2022  39478.37  39845.92  39233.54  39469.29  17964398167   \n",
      "17  Apr 23, 2022  39738.72  39935.86  39352.20  39486.73  16138021249   \n",
      "18  Apr 22, 2022  40525.86  40777.76  39315.42  39740.32  28011716745   \n",
      "19  Apr 21, 2022  41371.52  42893.58  40063.83  40527.36  35372786395   \n",
      "20  Apr 20, 2022  41501.74  42126.30  40961.10  41374.38  27819532341   \n",
      "21  Apr 19, 2022  40828.17  41672.96  40618.63  41502.75  25303206547   \n",
      "22  Apr 18, 2022  39721.20  40986.32  38696.19  40826.21  33705182072   \n",
      "23  Apr 17, 2022  40417.78  40570.73  39620.89  39716.95  19087633042   \n",
      "24  Apr 16, 2022  40552.32  40633.68  40078.43  40424.48  16833150693   \n",
      "25  Apr 15, 2022  39939.40  40617.72  39866.83  40553.46  21756855753   \n",
      "26  Apr 14, 2022  41160.22  41451.48  39695.74  39935.52  24342001973   \n",
      "27  Apr 13, 2022  40123.57  41430.05  39712.75  41166.73  27691105228   \n",
      "28  Apr 12, 2022  39533.71  40617.59  39388.33  40127.18  30991500854   \n",
      "29  Apr 11, 2022  42201.04  42424.59  39373.06  39521.90  33949912166   \n",
      "30  Apr 10, 2022  42781.09  43376.38  42021.21  42207.67  17654475582   \n",
      "\n",
      "       Marketcap  \n",
      "0   590565398299  \n",
      "1   576716899023  \n",
      "2   648302121215  \n",
      "3   675729532874  \n",
      "4   685953792236  \n",
      "5   696088266356  \n",
      "6   755491473700  \n",
      "7   718385701943  \n",
      "8   733170725791  \n",
      "9   731986764312  \n",
      "10  717596901509  \n",
      "11  734589762490  \n",
      "12  756698317682  \n",
      "13  746531438329  \n",
      "14  725113482674  \n",
      "15  769607056243  \n",
      "16  750755023764  \n",
      "17  751045477435  \n",
      "18  755827581233  \n",
      "19  770762297843  \n",
      "20  786828424699  \n",
      "21  789227424713  \n",
      "22  776330593866  \n",
      "23  755201997823  \n",
      "24  768615440640  \n",
      "25  771033872659  \n",
      "26  759245303311  \n",
      "27  782617115810  \n",
      "28  762819737794  \n",
      "29  751274786459  \n",
      "30  802293412897  \n"
     ]
    }
   ],
   "source": [
    "import pandas as pd\n",
    "\n",
    "col_name = ['Date' , 'Open', 'High', 'Low', 'Close', 'Volume', 'Marketcap']\n",
    "data = {}\n",
    "data['Bitcoin'] = BTC_test  # Assuming BTC_test is defined somewhere else\n",
    "\n",
    "# Create a DataFrame\n",
    "df = pd.DataFrame(data['Bitcoin'], columns=col_name)\n",
    "\n",
    "# Display the DataFrame\n",
    "print(df)"
   ]
  },
  {
   "cell_type": "code",
   "execution_count": 20,
   "metadata": {},
   "outputs": [
    {
     "ename": "NameError",
     "evalue": "name 'models' is not defined",
     "output_type": "error",
     "traceback": [
      "\u001b[0;31m---------------------------------------------------------------------------\u001b[0m",
      "\u001b[0;31mNameError\u001b[0m                                 Traceback (most recent call last)",
      "Cell \u001b[0;32mIn[20], line 15\u001b[0m\n\u001b[1;32m     12\u001b[0m X \u001b[38;5;241m=\u001b[39m BTC_df\u001b[38;5;241m.\u001b[39mdrop(\u001b[38;5;124m'\u001b[39m\u001b[38;5;124mClose\u001b[39m\u001b[38;5;124m'\u001b[39m, axis\u001b[38;5;241m=\u001b[39m\u001b[38;5;241m1\u001b[39m)\n\u001b[1;32m     14\u001b[0m \u001b[38;5;66;03m# Train and evaluate each model\u001b[39;00m\n\u001b[0;32m---> 15\u001b[0m \u001b[38;5;28;01mfor\u001b[39;00m name, model \u001b[38;5;129;01min\u001b[39;00m \u001b[43mmodels\u001b[49m\u001b[38;5;241m.\u001b[39mitems():\n\u001b[1;32m     16\u001b[0m     model\u001b[38;5;241m.\u001b[39mfit(X_train, y_train)\n\u001b[1;32m     17\u001b[0m     predictions \u001b[38;5;241m=\u001b[39m model\u001b[38;5;241m.\u001b[39mpredict(X_test)\n",
      "\u001b[0;31mNameError\u001b[0m: name 'models' is not defined"
     ]
    }
   ],
   "source": [
    "from sklearn.linear_model import LinearRegression, LassoCV\n",
    "from sklearn.svm import SVR\n",
    "from sklearn.model_selection import train_test_split\n",
    "from sklearn.metrics import mean_absolute_error, mean_absolute_percentage_error\n",
    "import pandas as pd\n",
    "\n",
    "# Assuming BTC_test is a DataFrame with 'Close' as target and all other columns as features\n",
    "# Convert BTC_test list to DataFrame\n",
    "BTC_df = pd.DataFrame(BTC_test, columns=col_name)\n",
    "\n",
    "# Drop the 'Close' column\n",
    "X = BTC_df.drop('Close', axis=1)\n",
    "\n",
    "# Train and evaluate each model\n",
    "for name, model in models.items():\n",
    "    model.fit(X_train, y_train)\n",
    "    predictions = model.predict(X_test)\n",
    "    mae = mean_absolute_error(y_test, predictions)\n",
    "    mape = mean_absolute_percentage_error(y_test, predictions)\n",
    "    print(f\"{name} - MAE: {mae}, MAPE: {mape}\")"
   ]
  }
 ],
 "metadata": {
  "kernelspec": {
   "display_name": "DataMining",
   "language": "python",
   "name": "python3"
  },
  "language_info": {
   "codemirror_mode": {
    "name": "ipython",
    "version": 3
   },
   "file_extension": ".py",
   "mimetype": "text/x-python",
   "name": "python",
   "nbconvert_exporter": "python",
   "pygments_lexer": "ipython3",
   "version": "3.9.18"
  }
 },
 "nbformat": 4,
 "nbformat_minor": 2
}
